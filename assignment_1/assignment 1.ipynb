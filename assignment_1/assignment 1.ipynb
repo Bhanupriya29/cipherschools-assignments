{
 "cells": [
  {
   "cell_type": "markdown",
   "metadata": {},
   "source": [
    "# ques 1"
   ]
  },
  {
   "cell_type": "code",
   "execution_count": 2,
   "metadata": {},
   "outputs": [
    {
     "name": "stdout",
     "output_type": "stream",
     "text": [
      "enter elements:4456845\n",
      "Original list=['4', '4', '5', '6', '8', '4', '5']\n",
      "output=['6', '8', '5', '4']\n"
     ]
    }
   ],
   "source": [
    "n=list(input(\"enter elements:\"))\n",
    "print(\"Original list=\"+str(n))\n",
    "list1=list(set(n))\n",
    "print(\"output=\"+str(list1))"
   ]
  },
  {
   "cell_type": "markdown",
   "metadata": {},
   "source": [
    "# ques 2"
   ]
  },
  {
   "cell_type": "code",
   "execution_count": 15,
   "metadata": {},
   "outputs": [
    {
     "name": "stdout",
     "output_type": "stream",
     "text": [
      "(5, 78, 67, 45, 39, 4, 7, 5)\n",
      "length of tuple=8\n",
      "sum of all elements of tuple=250\n",
      "largest element=78\n",
      "smallest element=4\n"
     ]
    }
   ],
   "source": [
    "t=(5,78,67,45,39,4,7,5)\n",
    "print(t)\n",
    "print(\"length of tuple=\"+str(len(t)))\n",
    "print(\"sum of all elements of tuple=\"+str(sum(t)))\n",
    "print(\"largest element=\"+str(max(t)))\n",
    "print(\"smallest element=\"+str(min(t)))"
   ]
  },
  {
   "cell_type": "markdown",
   "metadata": {},
   "source": [
    "# ques 3"
   ]
  },
  {
   "cell_type": "code",
   "execution_count": 1,
   "metadata": {},
   "outputs": [
    {
     "name": "stdout",
     "output_type": "stream",
     "text": [
      "enter number=13\n",
      "ith bit of number=1\n",
      "15\n"
     ]
    }
   ],
   "source": [
    "num=int(input(\"enter number=\"))\n",
    "i=int(input(\"ith bit of number=\"))\n",
    "mag_num=1<<i\n",
    "output=num|mag_num\n",
    "print(output)"
   ]
  },
  {
   "cell_type": "markdown",
   "metadata": {},
   "source": [
    "# ques 4"
   ]
  },
  {
   "cell_type": "code",
   "execution_count": 10,
   "metadata": {},
   "outputs": [
    {
     "name": "stdout",
     "output_type": "stream",
     "text": [
      "enter no:4\n",
      "0\n"
     ]
    }
   ],
   "source": [
    "a=int(input(\"enter no:\"))\n",
    "print(a%2)"
   ]
  },
  {
   "cell_type": "markdown",
   "metadata": {},
   "source": [
    "# ques 5"
   ]
  },
  {
   "cell_type": "code",
   "execution_count": 9,
   "metadata": {},
   "outputs": [
    {
     "name": "stdout",
     "output_type": "stream",
     "text": [
      "A=[2, 5, 7, 9, 10]\n",
      "B=[5, 4, 9, 8, 6]\n",
      "[2, 4, 5, 5, 6, 7, 8, 9, 9, 10]\n"
     ]
    }
   ],
   "source": [
    "list_1=[2,5,7,9,10]\n",
    "print(\"A=\"+str(list_1))\n",
    "list_2=[5,4,9,8,6]\n",
    "print(\"B=\"+str(list_2))\n",
    "print(sorted(list_1+list_2))"
   ]
  },
  {
   "cell_type": "markdown",
   "metadata": {},
   "source": [
    "# ques 6"
   ]
  },
  {
   "cell_type": "code",
   "execution_count": 51,
   "metadata": {},
   "outputs": [
    {
     "name": "stdout",
     "output_type": "stream",
     "text": [
      "input={'anvi': 70, 'preeti': 89, 'aksh': 90, 'ranu': 47, 'aarav': 68}\n",
      "output={'ranu': 47, 'aarav': 68, 'anvi': 70, 'preeti': 89, 'aksh': 99}\n"
     ]
    }
   ],
   "source": [
    "students={'anvi':70,'preeti':89,'aksh':90,'ranu':47,'aarav':68}\n",
    "print(\"input=\"+str(students))\n",
    "tuple1=(('anvi',70),('preeti',89),('aksh',99),('ranu',47),('aarav',68))\n",
    "y=dict(sorted(tuple1, key=lambda x:x[1]))\n",
    "print(\"output=\"+str(y))\n",
    "    "
   ]
  }
 ],
 "metadata": {
  "kernelspec": {
   "display_name": "Python 3",
   "language": "python",
   "name": "python3"
  },
  "language_info": {
   "codemirror_mode": {
    "name": "ipython",
    "version": 3
   },
   "file_extension": ".py",
   "mimetype": "text/x-python",
   "name": "python",
   "nbconvert_exporter": "python",
   "pygments_lexer": "ipython3",
   "version": "3.7.6"
  }
 },
 "nbformat": 4,
 "nbformat_minor": 4
}
